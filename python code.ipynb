{
 "cells": [
  {
   "cell_type": "code",
   "execution_count": null,
   "metadata": {},
   "outputs": [],
   "source": [
    "pip install kaggle"
   ]
  },
  {
   "cell_type": "code",
   "execution_count": 2,
   "metadata": {},
   "outputs": [],
   "source": [
    "import kaggle"
   ]
  },
  {
   "cell_type": "code",
   "execution_count": null,
   "metadata": {},
   "outputs": [],
   "source": [
    "!kaggle datasets download akshatagrawal9431/shipment-orders-dataset -f orders_data.csv\n"
   ]
  },
  {
   "cell_type": "code",
   "execution_count": 4,
   "metadata": {},
   "outputs": [],
   "source": [
    "import pandas as pd"
   ]
  },
  {
   "cell_type": "code",
   "execution_count": 5,
   "metadata": {},
   "outputs": [],
   "source": [
    "#Extract zip file(zip_ref-->object)\n",
    "\n",
    "import zipfile\n",
    "zip_ref = zipfile.ZipFile('orders_data.csv.zip') \n",
    "zip_ref.extractall() # extract file to dir\n",
    "\n",
    "# unzipping the file -> so that the data is extracted then we'll import it \n",
    "\n",
    "zip_ref.close() # close file"
   ]
  },
  {
   "cell_type": "code",
   "execution_count": null,
   "metadata": {},
   "outputs": [],
   "source": [
    "df=pd.read_csv('orders_data.csv.zip')\n",
    "df.head()"
   ]
  },
  {
   "cell_type": "code",
   "execution_count": null,
   "metadata": {},
   "outputs": [],
   "source": [
    "df.info()"
   ]
  },
  {
   "cell_type": "code",
   "execution_count": null,
   "metadata": {},
   "outputs": [],
   "source": [
    "df['Ship Mode'].unique()"
   ]
  },
  {
   "cell_type": "code",
   "execution_count": null,
   "metadata": {},
   "outputs": [],
   "source": [
    "#to remove (not available) and (unknown) to nan(not available number)\n",
    "#and create new data frame (df1)\n",
    "df1=pd.read_csv('orders_data.csv',na_values=['not available','unknown'])\n",
    "df1['Ship Mode'].unique()"
   ]
  },
  {
   "cell_type": "code",
   "execution_count": null,
   "metadata": {},
   "outputs": [],
   "source": [
    "#new data frame\n",
    "df1.head()"
   ]
  },
  {
   "cell_type": "code",
   "execution_count": null,
   "metadata": {},
   "outputs": [],
   "source": [
    "#derive new column like discount,sales price and profit\n",
    "df.head(2)"
   ]
  },
  {
   "cell_type": "code",
   "execution_count": null,
   "metadata": {},
   "outputs": [],
   "source": [
    "#name should be in correct form as per table\n",
    "df1['Selling Price']=df1['List Price']-df1['List Price']*(df1['Discount Percent']/100)\n",
    "df1['Selling Price']\n"
   ]
  },
  {
   "cell_type": "code",
   "execution_count": null,
   "metadata": {},
   "outputs": [],
   "source": [
    "# to check created new column (selling price)\n",
    "df1.head(3)"
   ]
  },
  {
   "cell_type": "code",
   "execution_count": null,
   "metadata": {},
   "outputs": [],
   "source": [
    "# to calculate profit\n",
    "df1['Profit']= (df1['Selling Price']- df1['cost price'])\n",
    "df1['Profit']"
   ]
  },
  {
   "cell_type": "code",
   "execution_count": null,
   "metadata": {},
   "outputs": [],
   "source": [
    "df1.head(3)"
   ]
  },
  {
   "cell_type": "code",
   "execution_count": null,
   "metadata": {},
   "outputs": [],
   "source": [
    "#change column name\n",
    "df1.rename(columns={'Profit' : 'Unit_Profit', 'Selling Price' : 'Unit_Selling_Price'}, inplace= True)\n",
    "df1.head(1)"
   ]
  },
  {
   "cell_type": "code",
   "execution_count": null,
   "metadata": {},
   "outputs": [],
   "source": [
    "#to check data type\n",
    "df1.dtypes"
   ]
  },
  {
   "cell_type": "code",
   "execution_count": null,
   "metadata": {},
   "outputs": [],
   "source": [
    "#to change data type \n",
    "df1['Order Date'] = pd.to_datetime(df1['Order Date'], format='%d-%m-%Y')\n",
    "df1.dtypes\n",
    "\n"
   ]
  },
  {
   "cell_type": "code",
   "execution_count": 19,
   "metadata": {},
   "outputs": [],
   "source": [
    "#droping some columns\n",
    "df1.drop(columns=['cost price','List Price','Discount Percent'],inplace=True)\n"
   ]
  },
  {
   "cell_type": "code",
   "execution_count": null,
   "metadata": {},
   "outputs": [],
   "source": [
    "df1.head(1)"
   ]
  },
  {
   "cell_type": "code",
   "execution_count": 21,
   "metadata": {},
   "outputs": [],
   "source": [
    "#calculate total profit in every order\n",
    "df1['Total profit']=df1['Unit_Profit']*df1['Quantity']"
   ]
  },
  {
   "cell_type": "code",
   "execution_count": null,
   "metadata": {},
   "outputs": [],
   "source": [
    "#import sqlalchemy as sal\n",
    "df1.head(2)"
   ]
  },
  {
   "cell_type": "code",
   "execution_count": null,
   "metadata": {},
   "outputs": [],
   "source": [
    "\n",
    "df1.sort_values(by=\"Total profit\",ascending=False)"
   ]
  },
  {
   "cell_type": "code",
   "execution_count": null,
   "metadata": {},
   "outputs": [],
   "source": [
    "df1.groupby('Product Id')"
   ]
  },
  {
   "cell_type": "code",
   "execution_count": null,
   "metadata": {},
   "outputs": [],
   "source": [
    "#group by product id and sum the profit to find total profit\n",
    "df1.groupby('Product Id').sum(['Total Profit']).sort_values(by =['Total profit'], ascending=False).reset_index()['Total profit']\n",
    "\n"
   ]
  },
  {
   "cell_type": "code",
   "execution_count": null,
   "metadata": {},
   "outputs": [],
   "source": [
    "df1.head()"
   ]
  },
  {
   "cell_type": "code",
   "execution_count": null,
   "metadata": {},
   "outputs": [],
   "source": [
    "# to check top 10 by profit\n",
    "df1.head(10).reset_index()[['Product Id','Total profit']].sort_values(by=['Total profit'],ascending=False)"
   ]
  },
  {
   "cell_type": "code",
   "execution_count": null,
   "metadata": {},
   "outputs": [],
   "source": [
    "df1['Total Sale']=df1['Unit_Selling_Price']*df1['Quantity']\n",
    "df1['Total Sale']"
   ]
  },
  {
   "cell_type": "code",
   "execution_count": null,
   "metadata": {},
   "outputs": [],
   "source": [
    "df1.sort_values(by=['Total Sale'],ascending=False).reset_index()[['Product Id','Total Sale']]"
   ]
  },
  {
   "cell_type": "code",
   "execution_count": null,
   "metadata": {},
   "outputs": [],
   "source": [
    "#to group by cities\n",
    "df1['City'].unique()\n",
    "#to check how many number of cities(unique values)\n",
    "df1['City'].nunique()\n",
    "\n"
   ]
  },
  {
   "cell_type": "code",
   "execution_count": null,
   "metadata": {},
   "outputs": [],
   "source": [
    "df1['Order Value']= df1['Unit_Selling_Price']* df1['Quantity']\n",
    "df1['Order Value']"
   ]
  },
  {
   "cell_type": "code",
   "execution_count": null,
   "metadata": {},
   "outputs": [],
   "source": [
    "df1.groupby('Order Id').sum(['Quantity'])"
   ]
  },
  {
   "cell_type": "code",
   "execution_count": null,
   "metadata": {},
   "outputs": [],
   "source": [
    "df1.groupby('Order Id').sum(['Quantity'])[['Order Value', 'Total profit']].reset_index()\n"
   ]
  },
  {
   "cell_type": "code",
   "execution_count": null,
   "metadata": {},
   "outputs": [],
   "source": [
    "df1.groupby('Order Id').sum(['Quantity'])[['Order Value', 'Total profit']].reset_index().sort_values(by = ['Total profit'], ascending = False)\n"
   ]
  },
  {
   "cell_type": "code",
   "execution_count": null,
   "metadata": {},
   "outputs": [],
   "source": [
    "#take all orders from the \"technology\" in category and shipment in second class [filter]\n",
    "df1[(df1['Category']=='Technology')&(df1['Ship Mode']=='Second Class')]"
   ]
  },
  {
   "cell_type": "code",
   "execution_count": null,
   "metadata": {},
   "outputs": [],
   "source": [
    "#to find Average order value(total sale)\n",
    "import numpy as np\n",
    "np.mean(df1['Total Sale'])\n"
   ]
  },
  {
   "cell_type": "code",
   "execution_count": null,
   "metadata": {},
   "outputs": [],
   "source": [
    "#find the city which contain highest total quantity orders\n",
    "#first group by city and find a count of quantity\n",
    "df1.groupby('City').sum('Quantity')['Quantity'].reset_index().sort_values(by=['Quantity'], ascending=False),df1.head(10)\n"
   ]
  },
  {
   "cell_type": "code",
   "execution_count": null,
   "metadata": {},
   "outputs": [],
   "source": [
    "#to rank the orders  by each region by quantity \n",
    "df1[['Order Id','Region','Quantity']].sort_values(by=['Region','Quantity'],ascending=[True,False])"
   ]
  },
  {
   "cell_type": "code",
   "execution_count": null,
   "metadata": {},
   "outputs": [],
   "source": [
    "#to find the total orders by first quater of the year\n",
    "df1['Month']=df1['Order Date'].dt.month\n",
    "\n",
    "df1[df1['Month'].isin([1,2,3])].head()"
   ]
  },
  {
   "cell_type": "code",
   "execution_count": null,
   "metadata": {},
   "outputs": [],
   "source": [
    "df1['Year']=df1['Order Date'].dt.year\n",
    "df1['Year']"
   ]
  },
  {
   "cell_type": "code",
   "execution_count": null,
   "metadata": {},
   "outputs": [],
   "source": [
    "df1['Quarter'] = df1['Order Date'].dt.quarter\n",
    "df1.head(2)"
   ]
  },
  {
   "cell_type": "code",
   "execution_count": null,
   "metadata": {},
   "outputs": [],
   "source": [
    "temp_df =  df1.groupby(['Year','Quarter']).sum('Total_Sale')['Total Sale'].reset_index()\n",
    "temp_df"
   ]
  },
  {
   "cell_type": "code",
   "execution_count": null,
   "metadata": {},
   "outputs": [],
   "source": [
    "# to find top 6 highest profit producing product\n",
    "df1.groupby('Product Id').sum('Total profit').sort_values(by=['Total profit'],ascending=False).head(6).reset_index()\n"
   ]
  },
  {
   "cell_type": "code",
   "execution_count": null,
   "metadata": {},
   "outputs": [],
   "source": [
    "#to find the top 5 highest selling product in each region\n",
    "df1.groupby(['Region', 'Product Id']).sum('Quantity')['Quantity'].reset_index().sort_values(by=['Region', 'Quantity'], ascending = [True, False])\n",
    "\n"
   ]
  },
  {
   "cell_type": "code",
   "execution_count": null,
   "metadata": {},
   "outputs": [],
   "source": [
    "# to find total sale in each region\n",
    "\n",
    "df1.groupby('Region').sum('Total Sale')"
   ]
  },
  {
   "cell_type": "code",
   "execution_count": 46,
   "metadata": {},
   "outputs": [],
   "source": [
    "# to build charts\n",
    "\n"
   ]
  },
  {
   "cell_type": "code",
   "execution_count": 47,
   "metadata": {},
   "outputs": [],
   "source": [
    "import seaborn as sns\n",
    "import matplotlib.pyplot as plt"
   ]
  },
  {
   "cell_type": "code",
   "execution_count": null,
   "metadata": {},
   "outputs": [],
   "source": []
  },
  {
   "cell_type": "code",
   "execution_count": null,
   "metadata": {},
   "outputs": [],
   "source": [
    "# scatter chat region by total sales\n",
    "\n",
    "plt.scatter('Region','Total Sale',data=df1, s=100,  # Marker size\n",
    "            c='red',  # Marker color\n",
    "            marker='^',  # Marker shape (triangle)\n",
    "            label='Data Points')\n",
    "\n",
    "plt.xlabel('Region')\n",
    "plt.ylabel('Total sales')\n",
    "plt.title('Region wise total sales')\n",
    "plt.grid(True)  "
   ]
  },
  {
   "cell_type": "code",
   "execution_count": null,
   "metadata": {},
   "outputs": [],
   "source": [
    "plt.bar('Category','Total profit',data=df1,label='data points')\n",
    "plt.xlabel('Category')\n",
    "plt.ylabel('Total profit')\n",
    "plt.title('Region wise total sales')\n",
    "plt.grid(True) \n",
    "\n"
   ]
  },
  {
   "cell_type": "code",
   "execution_count": null,
   "metadata": {},
   "outputs": [],
   "source": []
  },
  {
   "cell_type": "code",
   "execution_count": null,
   "metadata": {},
   "outputs": [],
   "source": []
  }
 ],
 "metadata": {
  "kernelspec": {
   "display_name": "Python 3",
   "language": "python",
   "name": "python3"
  },
  "language_info": {
   "codemirror_mode": {
    "name": "ipython",
    "version": 3
   },
   "file_extension": ".py",
   "mimetype": "text/x-python",
   "name": "python",
   "nbconvert_exporter": "python",
   "pygments_lexer": "ipython3",
   "version": "3.13.0"
  }
 },
 "nbformat": 4,
 "nbformat_minor": 2
}
